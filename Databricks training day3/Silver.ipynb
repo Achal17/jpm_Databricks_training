{
 "cells": [
  {
   "cell_type": "code",
   "execution_count": 0,
   "metadata": {
    "application/vnd.databricks.v1+cell": {
     "cellMetadata": {
      "byteLimit": 2048000,
      "implicitDf": true,
      "rowLimit": 10000
     },
     "inputWidgets": {},
     "nuid": "249f028f-164e-4dd4-820e-02dba72d4541",
     "showTitle": false,
     "tableResultSettingsMap": {},
     "title": ""
    }
   },
   "outputs": [],
   "source": [
    "%sql\n",
    "select * from jpm.achal_bronze.customers_bronze limit 5"
   ]
  },
  {
   "cell_type": "code",
   "execution_count": 0,
   "metadata": {
    "application/vnd.databricks.v1+cell": {
     "cellMetadata": {
      "byteLimit": 2048000,
      "implicitDf": true,
      "rowLimit": 10000
     },
     "inputWidgets": {},
     "nuid": "b09f180b-00e5-425c-a757-18d33691ab70",
     "showTitle": false,
     "tableResultSettingsMap": {},
     "title": ""
    }
   },
   "outputs": [],
   "source": [
    "%sql\n",
    "CREATE OR REPLACE TABLE jpm.achal_silver.silver_customer AS\n",
    "SELECT\n",
    "    cust_id,\n",
    "    name,\n",
    "    CAST(age AS INT) AS age,\n",
    "    gender,\n",
    "    to_date(birthday, 'yyyy') AS birthday_year,\n",
    "    cast(zip as int) as zip,\n",
    "    REPLACE(city, '_', ' ') AS city\n",
    "FROM jpm.achal_bronze.customers_bronze;\n"
   ]
  },
  {
   "cell_type": "code",
   "execution_count": 0,
   "metadata": {
    "application/vnd.databricks.v1+cell": {
     "cellMetadata": {
      "byteLimit": 2048000,
      "implicitDf": true,
      "rowLimit": 10000
     },
     "inputWidgets": {},
     "nuid": "096e7b2c-bb28-4cba-8019-8081f0840b04",
     "showTitle": false,
     "tableResultSettingsMap": {},
     "title": ""
    }
   },
   "outputs": [],
   "source": [
    "%sql\n",
    "CREATE OR REPLACE TABLE jpm.achal_silver.silver_transaction AS\n",
    "SELECT DISTINCT\n",
    "    cust_id,\n",
    "    start_date,\n",
    "    end_date,\n",
    "    txn_id,\n",
    "    date,\n",
    "    year,\n",
    "    month,\n",
    "    day,\n",
    "    expense_type,\n",
    "    CAST(amt AS DECIMAL(10,2)) AS amt,\n",
    "    REPLACE(city, '_', ' ') AS city\n",
    "FROM jpm.achal_bronze.transactions_bronze;"
   ]
  }
 ],
 "metadata": {
  "application/vnd.databricks.v1+notebook": {
   "computePreferences": null,
   "dashboards": [],
   "environmentMetadata": {
    "base_environment": "",
    "environment_version": "2"
   },
   "language": "python",
   "notebookMetadata": {
    "mostRecentlyExecutedCommandWithImplicitDF": {
     "commandId": 6736544397469060,
     "dataframes": [
      "_sqldf"
     ]
    },
    "pythonIndentUnit": 4
   },
   "notebookName": "Silver",
   "widgets": {}
  },
  "language_info": {
   "name": "python"
  }
 },
 "nbformat": 4,
 "nbformat_minor": 0
}
