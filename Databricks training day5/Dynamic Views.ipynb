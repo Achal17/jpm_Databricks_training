{
 "cells": [
  {
   "cell_type": "code",
   "execution_count": 0,
   "metadata": {
    "application/vnd.databricks.v1+cell": {
     "cellMetadata": {
      "byteLimit": 2048000,
      "implicitDf": true,
      "rowLimit": 10000
     },
     "inputWidgets": {},
     "nuid": "cd306481-b1d2-4a48-bf59-37ae1b43133a",
     "showTitle": false,
     "tableResultSettingsMap": {},
     "title": ""
    }
   },
   "outputs": [],
   "source": [
    "%sql\n",
    "--Create the sales_raw table\n",
    "CREATE TABLE jpm.achal.sales_raw (\n",
    "  user_id STRING,\n",
    "  email STRING,\n",
    "  country STRING,\n",
    "  product STRING,\n",
    "  total DOUBLE\n",
    ");\n",
    "\n",
    "-- Insert 10 records into the sales_raw table\n",
    "INSERT INTO jpm.achal.sales_raw VALUES\n",
    "('1', 'user1@example.com', 'USA', 'ProductA', 100.0),\n",
    "('2', 'user2@example.com', 'Canada', 'ProductB', 150.0),\n",
    "('3', 'user3@example.com', 'UK', 'ProductC', 200.0),\n",
    "('4', 'user4@example.com', 'Germany', 'ProductD', 250.0),\n",
    "('5', 'user5@example.com', 'France', 'ProductE', 300.0),\n",
    "('6', 'user6@example.com', 'Italy', 'ProductF', 350.0),\n",
    "('7', 'user7@example.com', 'Spain', 'ProductG', 400.0),\n",
    "('8', 'user8@example.com', 'Australia', 'ProductH', 450.0),\n",
    "('9', 'user9@example.com', 'India', 'ProductI', 500.0),\n",
    "('10', 'user10@example.com', 'Japan', 'ProductJ', 550.0);\n",
    "\n"
   ]
  },
  {
   "cell_type": "code",
   "execution_count": 0,
   "metadata": {
    "application/vnd.databricks.v1+cell": {
     "cellMetadata": {},
     "inputWidgets": {},
     "nuid": "6c02dac0-0ac0-471b-a7de-ac7fd10767e0",
     "showTitle": false,
     "tableResultSettingsMap": {},
     "title": ""
    }
   },
   "outputs": [],
   "source": [
    "-- Create the sales_raw table\n",
    "CREATE TABLE jpm.default.sales_raw (\n",
    "  user_id STRING,\n",
    "  email STRING,\n",
    "  country STRING,\n",
    "  product STRING,\n",
    "  total DOUBLE\n",
    ");\n",
    "\n",
    "-- Insert 10 records into the sales_raw table\n",
    "INSERT INTO jpm.default.sales_raw VALUES\n",
    "('1', 'user1@example.com', 'USA', 'ProductA', 100.0),\n",
    "('2', 'user2@example.com', 'Canada', 'ProductB', 150.0),\n",
    "('3', 'user3@example.com', 'UK', 'ProductC', 200.0),\n",
    "('4', 'user4@example.com', 'Germany', 'ProductD', 250.0),\n",
    "('5', 'user5@example.com', 'France', 'ProductE', 300.0),\n",
    "('6', 'user6@example.com', 'Italy', 'ProductF', 350.0),\n",
    "('7', 'user7@example.com', 'Spain', 'ProductG', 400.0),\n",
    "('8', 'user8@example.com', 'Australia', 'ProductH', 450.0),\n",
    "('9', 'user9@example.com', 'India', 'ProductI', 500.0),\n",
    "('10', 'user10@example.com', 'Japan', 'ProductJ', 550.0);\n",
    "\n"
   ]
  },
  {
   "cell_type": "code",
   "execution_count": 0,
   "metadata": {
    "application/vnd.databricks.v1+cell": {
     "cellMetadata": {},
     "inputWidgets": {},
     "nuid": "632511ec-c11b-4eed-a168-19e0f09a7363",
     "showTitle": false,
     "tableResultSettingsMap": {},
     "title": ""
    }
   },
   "outputs": [],
   "source": [
    "create or replace view jpm.default.sales_view as select * from jpm.default.sales_raw"
   ]
  },
  {
   "cell_type": "code",
   "execution_count": 0,
   "metadata": {
    "application/vnd.databricks.v1+cell": {
     "cellMetadata": {},
     "inputWidgets": {},
     "nuid": "dbbe841c-691a-4053-bbb5-8289cdf284f0",
     "showTitle": false,
     "tableResultSettingsMap": {},
     "title": ""
    }
   },
   "outputs": [],
   "source": [
    "select * from jpm.default.sales_view"
   ]
  },
  {
   "cell_type": "code",
   "execution_count": 0,
   "metadata": {
    "application/vnd.databricks.v1+cell": {
     "cellMetadata": {},
     "inputWidgets": {},
     "nuid": "99e2db6b-8a8a-4c32-8e11-691e958c7970",
     "showTitle": false,
     "tableResultSettingsMap": {},
     "title": ""
    }
   },
   "outputs": [],
   "source": [
    "-- Alias the field 'email' to itself (as 'email') to prevent the\n",
    "-- permission logic from showing up directly in the column name results.\n",
    "CREATE or replace VIEW jpm.default.sales_redacted AS\n",
    "SELECT\n",
    "  user_id,\n",
    "  CASE WHEN\n",
    "    is_account_group_member('jpm_banglore') THEN 'REDACTED'\n",
    "    ELSE email\n",
    "  END AS email,\n",
    "  country,\n",
    "  product,\n",
    "  total\n",
    "FROM jpm.default.sales_view"
   ]
  },
  {
   "cell_type": "code",
   "execution_count": 0,
   "metadata": {
    "application/vnd.databricks.v1+cell": {
     "cellMetadata": {},
     "inputWidgets": {},
     "nuid": "9b3ec13a-c252-4403-bb80-e368b0d10738",
     "showTitle": false,
     "tableResultSettingsMap": {},
     "title": ""
    }
   },
   "outputs": [],
   "source": [
    "select * from jpm.default.sales_redacted"
   ]
  },
  {
   "cell_type": "code",
   "execution_count": 0,
   "metadata": {
    "application/vnd.databricks.v1+cell": {
     "cellMetadata": {},
     "inputWidgets": {},
     "nuid": "69dd71d5-8832-4ab6-887b-0bbd09ce1bb6",
     "showTitle": false,
     "tableResultSettingsMap": {},
     "title": ""
    }
   },
   "outputs": [],
   "source": [
    "CREATE or replace VIEW jpm.default.sales_view_india AS\n",
    "SELECT\n",
    "  user_id,\n",
    "  email,\n",
    "  product,\n",
    "  country,\n",
    "  total\n",
    "FROM jpm.default.sales_view\n",
    "WHERE\n",
    "  CASE\n",
    "    WHEN is_account_group_member('jpm_banglore') THEN country='India'\n",
    "    ELSE TRUE\n",
    "  END;"
   ]
  },
  {
   "cell_type": "code",
   "execution_count": 0,
   "metadata": {
    "application/vnd.databricks.v1+cell": {
     "cellMetadata": {},
     "inputWidgets": {},
     "nuid": "f92923e2-27d3-4f6d-bd35-b691e0bf5b60",
     "showTitle": false,
     "tableResultSettingsMap": {},
     "title": ""
    }
   },
   "outputs": [],
   "source": [
    "select * from jpm.default.sales_view_india"
   ]
  },
  {
   "cell_type": "code",
   "execution_count": 0,
   "metadata": {
    "application/vnd.databricks.v1+cell": {
     "cellMetadata": {},
     "inputWidgets": {},
     "nuid": "60d70472-b5a7-425a-91d9-6a1a65e0a02c",
     "showTitle": false,
     "tableResultSettingsMap": {},
     "title": ""
    }
   },
   "outputs": [],
   "source": [
    "-- The regexp_extract function takes an email address such as\n",
    "-- user.x.lastname@example.com and extracts 'example', allowing\n",
    "-- analysts to query the domain name.\n",
    "\n",
    "CREATE or replace VIEW jpm.default.sales_email AS\n",
    "SELECT\n",
    "  user_id,\n",
    "  CASE\n",
    "    WHEN is_account_group_member('jpm_banglore') THEN regexp_extract(email, '^.*@(.*)$', 1)\n",
    "    ELSE email\n",
    "  END as email,\n",
    "  country,\n",
    "  product\n",
    "  FROM jpm.default.sales_view"
   ]
  },
  {
   "cell_type": "code",
   "execution_count": 0,
   "metadata": {
    "application/vnd.databricks.v1+cell": {
     "cellMetadata": {
      "byteLimit": 2048000,
      "rowLimit": 10000
     },
     "inputWidgets": {},
     "nuid": "f5ddd1f4-ecc6-4c2b-be38-b6ce50b7c278",
     "showTitle": false,
     "tableResultSettingsMap": {},
     "title": ""
    }
   },
   "outputs": [],
   "source": [
    "select * from jpm.achal_gold.all_records"
   ]
  },
  {
   "cell_type": "code",
   "execution_count": 0,
   "metadata": {
    "application/vnd.databricks.v1+cell": {
     "cellMetadata": {
      "byteLimit": 2048000,
      "rowLimit": 10000
     },
     "inputWidgets": {},
     "nuid": "be5ac4ca-8366-4df5-b1d9-a0dd2786ef29",
     "showTitle": false,
     "tableResultSettingsMap": {},
     "title": ""
    }
   },
   "outputs": [],
   "source": [
    "CREATE or replace FUNCTION jpm.achal_gold.message(amt DOUBLE)\n",
    "RETURNS STRING\n",
    "RETURN CONCAT('The value ', amt, ' is for ',round( amt * 0.10), 'discount')"
   ]
  },
  {
   "cell_type": "code",
   "execution_count": 0,
   "metadata": {
    "application/vnd.databricks.v1+cell": {
     "cellMetadata": {
      "byteLimit": 2048000,
      "rowLimit": 10000
     },
     "inputWidgets": {},
     "nuid": "0f3b2623-dda8-4f5d-a389-beaf684dc607",
     "showTitle": false,
     "tableResultSettingsMap": {},
     "title": ""
    }
   },
   "outputs": [],
   "source": [
    "CREATE or replace FUNCTION jpm.achal_gold.message(amt DOUBLE)\n",
    "RETURNS STRING\n",
    "RETURN CASE WHEN amt > 100 THEN \"High\"\n",
    "            WHEN amt > 50 THEN \"Medium\"\n",
    "            ELSE \"Low\" END;"
   ]
  },
  {
   "cell_type": "code",
   "execution_count": 0,
   "metadata": {
    "application/vnd.databricks.v1+cell": {
     "cellMetadata": {
      "byteLimit": 2048000,
      "rowLimit": 10000
     },
     "inputWidgets": {},
     "nuid": "070a9725-b965-4f95-b189-d56f46b64329",
     "showTitle": false,
     "tableResultSettingsMap": {},
     "title": ""
    }
   },
   "outputs": [],
   "source": [
    "select *,jpm.achal_gold.message(amt) as message from jpm.achal_gold.all_records"
   ]
  },
  {
   "cell_type": "code",
   "execution_count": 0,
   "metadata": {
    "application/vnd.databricks.v1+cell": {
     "cellMetadata": {
      "byteLimit": 2048000,
      "rowLimit": 10000
     },
     "inputWidgets": {},
     "nuid": "91181a64-ff46-47c6-8f06-b0aeed03c07d",
     "showTitle": false,
     "tableResultSettingsMap": {},
     "title": ""
    }
   },
   "outputs": [],
   "source": [
    "select *,jpm.achal_gold.message(amt) as message from jpm.achal_gold.all_records"
   ]
  },
  {
   "cell_type": "code",
   "execution_count": 0,
   "metadata": {
    "application/vnd.databricks.v1+cell": {
     "cellMetadata": {
      "byteLimit": 2048000,
      "rowLimit": 10000
     },
     "inputWidgets": {},
     "nuid": "61b9a45f-0016-457d-9b5e-9f40bf44bc8c",
     "showTitle": false,
     "tableResultSettingsMap": {},
     "title": ""
    }
   },
   "outputs": [],
   "source": [
    "CREATE or replace FUNCTION jpm.achal_gold.message(amt DOUBLE)\n",
    "RETURNS STRING\n",
    "RETURN CONCAT('The value ', amt, ' is for ',round( amt * 0.10), 'discount')"
   ]
  },
  {
   "cell_type": "code",
   "execution_count": 0,
   "metadata": {
    "application/vnd.databricks.v1+cell": {
     "cellMetadata": {
      "byteLimit": 2048000,
      "rowLimit": 10000
     },
     "inputWidgets": {},
     "nuid": "9db5ea17-04a4-4866-b0ad-f652714e59ad",
     "showTitle": false,
     "tableResultSettingsMap": {},
     "title": ""
    }
   },
   "outputs": [],
   "source": [
    "create or replace view jpm.achal.sales_view as select * from jpm.achal.sales_raw"
   ]
  },
  {
   "cell_type": "code",
   "execution_count": 0,
   "metadata": {
    "application/vnd.databricks.v1+cell": {
     "cellMetadata": {
      "byteLimit": 2048000,
      "rowLimit": 10000
     },
     "inputWidgets": {},
     "nuid": "73636495-391b-43e1-a7d8-c58df869c41c",
     "showTitle": false,
     "tableResultSettingsMap": {},
     "title": ""
    }
   },
   "outputs": [],
   "source": [
    "select * from jpm.default.sales_view"
   ]
  },
  {
   "cell_type": "code",
   "execution_count": 0,
   "metadata": {
    "application/vnd.databricks.v1+cell": {
     "cellMetadata": {
      "byteLimit": 2048000,
      "rowLimit": 10000
     },
     "inputWidgets": {},
     "nuid": "301bab89-01df-44df-9065-253ca4690179",
     "showTitle": false,
     "tableResultSettingsMap": {},
     "title": ""
    }
   },
   "outputs": [],
   "source": [
    "-- Alias the field 'email' to itself (as 'email') to prevent the\n",
    "-- permission logic from showing up directly in the column name results.\n",
    "CREATE or replace VIEW jpm.default.sales_redacted AS\n",
    "SELECT\n",
    "  user_id,\n",
    "  CASE WHEN\n",
    "    is_account_group_member('jpm_mumbai') THEN 'REDACTED'\n",
    "    ELSE email\n",
    "  END AS email,\n",
    "  country,\n",
    "  product,\n",
    "  total\n",
    "FROM jpm.default.sales_view"
   ]
  },
  {
   "cell_type": "code",
   "execution_count": 0,
   "metadata": {
    "application/vnd.databricks.v1+cell": {
     "cellMetadata": {},
     "inputWidgets": {},
     "nuid": "15a81364-13f8-4957-935c-8627a2279bf7",
     "showTitle": false,
     "tableResultSettingsMap": {},
     "title": ""
    }
   },
   "outputs": [],
   "source": []
  }
 ],
 "metadata": {
  "application/vnd.databricks.v1+notebook": {
   "computePreferences": null,
   "dashboards": [],
   "environmentMetadata": {
    "base_environment": "",
    "environment_version": "2"
   },
   "language": "sql",
   "notebookMetadata": {
    "mostRecentlyExecutedCommandWithImplicitDF": {
     "commandId": -1,
     "dataframes": [
      "_sqldf"
     ]
    },
    "pythonIndentUnit": 4
   },
   "notebookName": "Dynamic Views",
   "widgets": {}
  },
  "language_info": {
   "name": "sql"
  }
 },
 "nbformat": 4,
 "nbformat_minor": 0
}
